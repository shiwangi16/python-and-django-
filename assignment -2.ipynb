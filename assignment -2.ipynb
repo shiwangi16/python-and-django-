{
 "cells": [
  {
   "cell_type": "code",
   "execution_count": 38,
   "id": "fb945ab5",
   "metadata": {},
   "outputs": [],
   "source": [
    "#QUESTION NUMBER :-1"
   ]
  },
  {
   "cell_type": "code",
   "execution_count": 46,
   "id": "08dcba72",
   "metadata": {
    "scrolled": true
   },
   "outputs": [
    {
     "name": "stdout",
     "output_type": "stream",
     "text": [
      "Enter  num: 10\n",
      "1 2 3 4 5 6 7 8 9 10 \n",
      " print the output in Reverese Order: \n",
      "10 9 8 7 6 5 4 3 2 1 "
     ]
    }
   ],
   "source": [
    "num = int(input(\"Enter  num: \"))\n",
    "for i in range (num):\n",
    "    print(i+1, end = \" \")\n",
    "\n",
    "print()\n",
    "\n",
    "print(\" print the output in Reverese Order: \")\n",
    "for i in range(num):\n",
    "    print(num-i, end = \" \")"
   ]
  },
  {
   "cell_type": "code",
   "execution_count": null,
   "id": "31d00df9",
   "metadata": {},
   "outputs": [],
   "source": [
    "#QUESTION NUMBER :-2"
   ]
  },
  {
   "cell_type": "code",
   "execution_count": 45,
   "id": "50ccd849",
   "metadata": {},
   "outputs": [
    {
     "name": "stdout",
     "output_type": "stream",
     "text": [
      "1 :is odd number\n",
      "3 :is odd number\n",
      "5 :is odd number\n",
      "7 :is odd number\n",
      "9 :is odd number\n",
      "11 :is odd number\n",
      "13 :is odd number\n",
      "15 :is odd number\n",
      "17 :is odd number\n",
      "19 :is odd number\n",
      "21 :is odd number\n",
      "23 :is odd number\n",
      "25 :is odd number\n",
      "27 :is odd number\n",
      "29 :is odd number\n",
      "31 :is odd number\n",
      "33 :is odd number\n",
      "35 :is odd number\n",
      "37 :is odd number\n",
      "39 :is odd number\n",
      "41 :is odd number\n",
      "43 :is odd number\n",
      "45 :is odd number\n",
      "47 :is odd number\n",
      "49 :is odd number\n",
      "51 :is odd number\n",
      "53 :is odd number\n",
      "55 :is odd number\n",
      "57 :is odd number\n",
      "59 :is odd number\n",
      "61 :is odd number\n",
      "63 :is odd number\n",
      "65 :is odd number\n",
      "67 :is odd number\n",
      "69 :is odd number\n",
      "71 :is odd number\n",
      "73 :is odd number\n",
      "75 :is odd number\n",
      "77 :is odd number\n",
      "79 :is odd number\n",
      "81 :is odd number\n",
      "83 :is odd number\n",
      "85 :is odd number\n",
      "87 :is odd number\n",
      "89 :is odd number\n",
      "91 :is odd number\n",
      "93 :is odd number\n",
      "95 :is odd number\n",
      "97 :is odd number\n",
      "2 :is even number\n",
      "4 :is even number\n",
      "6 :is even number\n",
      "8 :is even number\n",
      "10 :is even number\n",
      "12 :is even number\n",
      "14 :is even number\n",
      "16 :is even number\n",
      "18 :is even number\n",
      "20 :is even number\n",
      "22 :is even number\n",
      "24 :is even number\n",
      "26 :is even number\n",
      "28 :is even number\n",
      "30 :is even number\n",
      "32 :is even number\n",
      "34 :is even number\n",
      "36 :is even number\n",
      "38 :is even number\n",
      "40 :is even number\n",
      "42 :is even number\n",
      "44 :is even number\n",
      "46 :is even number\n",
      "48 :is even number\n",
      "50 :is even number\n",
      "52 :is even number\n",
      "54 :is even number\n",
      "56 :is even number\n",
      "58 :is even number\n",
      "60 :is even number\n",
      "62 :is even number\n",
      "64 :is even number\n",
      "66 :is even number\n",
      "68 :is even number\n",
      "70 :is even number\n",
      "72 :is even number\n",
      "74 :is even number\n",
      "76 :is even number\n",
      "78 :is even number\n",
      "80 :is even number\n",
      "82 :is even number\n",
      "84 :is even number\n",
      "86 :is even number\n",
      "88 :is even number\n",
      "90 :is even number\n",
      "92 :is even number\n",
      "94 :is even number\n",
      "96 :is even number\n",
      "98 :is even number\n",
      "100 :is even number\n"
     ]
    }
   ],
   "source": [
    "start, end = 1,100\n",
    "for a in range(start , end-1):\n",
    "     if a % 2 != 0:\n",
    "            print(a , \":is odd number\")\n",
    "for n in range(start , end + 1):\n",
    "    if n % 2 == 0:\n",
    "        print(n,\":is even number\")\n",
    "    \n",
    "    "
   ]
  },
  {
   "cell_type": "code",
   "execution_count": 43,
   "id": "9a0273cd",
   "metadata": {},
   "outputs": [],
   "source": [
    "#QUESTION NUMBER:-3"
   ]
  },
  {
   "cell_type": "code",
   "execution_count": 4,
   "id": "d640a459",
   "metadata": {},
   "outputs": [
    {
     "name": "stdout",
     "output_type": "stream",
     "text": [
      "enter any number:7\n",
      "7 true\n"
     ]
    }
   ],
   "source": [
    "n=int(input(\"enter any number:\"))\n",
    "if n>1:\n",
    "    for i in range(2 , n):\n",
    "        if (n%i)==0:\n",
    "            print(n,\"false\")\n",
    "            break\n",
    "    else:\n",
    "        print(n,\"true\")\n",
    "else:\n",
    "    print(n,\"false\")\n",
    "        "
   ]
  },
  {
   "cell_type": "code",
   "execution_count": null,
   "id": "184976a5",
   "metadata": {},
   "outputs": [],
   "source": [
    "#QUESTION NUMBER:-4"
   ]
  },
  {
   "cell_type": "code",
   "execution_count": 11,
   "id": "c56df7b3",
   "metadata": {},
   "outputs": [
    {
     "name": "stdout",
     "output_type": "stream",
     "text": [
      "enter number upto which u want to find the sum:17\n",
      "0\n",
      "3\n",
      "5\n",
      "6\n",
      "9\n",
      "10\n",
      "12\n",
      "15\n",
      "sum is: 60\n"
     ]
    }
   ],
   "source": [
    "result = 0\n",
    "n=int(input(\"enter number upto which u want to find the sum:\"))\n",
    "for i in range(0,n):\n",
    "    if (i % 3 == 0 or i % 5 == 0):\n",
    "        print(i)\n",
    "        result = result + i\n",
    "print (\"sum is:\", result) "
   ]
  },
  {
   "cell_type": "code",
   "execution_count": null,
   "id": "f4d01c7e",
   "metadata": {},
   "outputs": [],
   "source": [
    "#QUESTION NUMBER:-5"
   ]
  },
  {
   "cell_type": "code",
   "execution_count": 68,
   "id": "736baa88",
   "metadata": {},
   "outputs": [
    {
     "name": "stdout",
     "output_type": "stream",
     "text": [
      "Enter the value of n: 9\n",
      "Press 1 for Sum\n",
      "Press 2 for Product\n",
      "Enter your choice (1/2): 2\n",
      "Product: 362880\n"
     ]
    }
   ],
   "source": [
    "n = int(input(\"Enter the value of n: \"))\n",
    "\n",
    "print(\"Press 1 for Sum\")\n",
    "print(\"Press 2 for Product\")\n",
    "num = int(input(\"Enter your choice (1/2): \"))\n",
    "\n",
    "def add():\n",
    "    sum = 0\n",
    "    for i in range (1, n+1):\n",
    "        sum += i\n",
    "    print(\"Sum:\", sum)\n",
    "    \n",
    "def mul():\n",
    "    product = 1\n",
    "    for i in range (1, n+1):\n",
    "        product *= i\n",
    "    print(\"Product:\", product)\n",
    "\n",
    "if(num == 1):\n",
    "    add()\n",
    "    \n",
    "elif(num == 2):\n",
    "    mul()\n",
    "\n",
    "else:\n",
    "    print(\"something went wrong...\")"
   ]
  },
  {
   "cell_type": "code",
   "execution_count": null,
   "id": "c0348cb9",
   "metadata": {},
   "outputs": [],
   "source": [
    "#QUESTION NUMBER:-6"
   ]
  },
  {
   "cell_type": "code",
   "execution_count": 66,
   "id": "0d82836f",
   "metadata": {},
   "outputs": [
    {
     "name": "stdout",
     "output_type": "stream",
     "text": [
      "0\n",
      "3\n",
      "5\n",
      "6\n",
      "9\n",
      "sum is: 23\n"
     ]
    }
   ],
   "source": [
    "result = 0\n",
    "for i in range(0,10):\n",
    "    if (i % 3 == 0 or i % 5 == 0):\n",
    "        print (i)\n",
    "        result = result + i\n",
    "print (\"sum is:\", result)"
   ]
  },
  {
   "cell_type": "code",
   "execution_count": null,
   "id": "3e618f6a",
   "metadata": {},
   "outputs": [],
   "source": [
    "#QUESTION NUMBER:-7"
   ]
  },
  {
   "cell_type": "code",
   "execution_count": 12,
   "id": "be6a53aa",
   "metadata": {},
   "outputs": [
    {
     "name": "stdout",
     "output_type": "stream",
     "text": [
      "2002,2009,2016,2023,2037,2044,2051,2058,2072,2079,2086,2093,2107,2114,2121,2128,2142,2149,2156,2163,2177,2184,2191,2198,2212,2219,2226,2233,2247,2254,2261,2268,2282,2289,2296,2303,2317,2324,2331,2338,2352,2359,2366,2373,2387,2394,2401,2408,2422,2429,2436,2443,2457,2464,2471,2478,2492,2499,2506,2513,2527,2534,2541,2548,2562,2569,2576,2583,2597,2604,2611,2618,2632,2639,2646,2653,2667,2674,2681,2688,2702,2709,2716,2723,2737,2744,2751,2758,2772,2779,2786,2793,2807,2814,2821,2828,2842,2849,2856,2863,2877,2884,2891,2898,2912,2919,2926,2933,2947,2954,2961,2968,2982,2989,2996,3003,3017,3024,3031,3038,3052,3059,3066,3073,3087,3094,3101,3108,3122,3129,3136,3143,3157,3164,3171,3178,3192,3199\n"
     ]
    }
   ],
   "source": [
    "l=[]\n",
    "for i in range(2000, 3200):\n",
    "    if (i%7==0) and (i%5!=0):\n",
    "        l.append(str(i))\n",
    "\n",
    "print(','.join(l))"
   ]
  },
  {
   "cell_type": "code",
   "execution_count": null,
   "id": "749fbcaa",
   "metadata": {},
   "outputs": [],
   "source": [
    "#QUESTION NUMBER:-8"
   ]
  },
  {
   "cell_type": "code",
   "execution_count": 29,
   "id": "78fb9d17",
   "metadata": {},
   "outputs": [],
   "source": [
    "def euler6(limit):\n",
    "    ange(limit+1)\n",
    "    squares = sum(map(lambda x: x*x, sequence))\n",
    "    sums = sum(sequence)\n",
    "    sums *= sums\n",
    "    return sums-squares"
   ]
  },
  {
   "cell_type": "code",
   "execution_count": 15,
   "id": "19e4f9e7",
   "metadata": {},
   "outputs": [
    {
     "data": {
      "text/plain": [
       "25164150"
      ]
     },
     "execution_count": 15,
     "metadata": {},
     "output_type": "execute_result"
    }
   ],
   "source": [
    "euler6(100)"
   ]
  },
  {
   "cell_type": "code",
   "execution_count": null,
   "id": "e6f72fdd",
   "metadata": {},
   "outputs": [],
   "source": [
    "#QUESTION NUMBER:-9"
   ]
  },
  {
   "cell_type": "code",
   "execution_count": 31,
   "id": "09e10cde",
   "metadata": {},
   "outputs": [
    {
     "name": "stdout",
     "output_type": "stream",
     "text": [
      "The factorial of 7 is 5040\n"
     ]
    }
   ],
   "source": [
    "num = 7\n",
    "factorial = 1\n",
    "if num < 0:\n",
    "    print(\"Sorry, factorial does not exist for negative numbers\")\n",
    "elif num == 0:\n",
    "    print(\"The factorial of 0 is 1\")\n",
    "else:\n",
    "    for i in range(1,num + 1):\n",
    "        factorial = factorial*i\n",
    "    print(\"The factorial of\",num,\"is\",factorial)"
   ]
  },
  {
   "cell_type": "code",
   "execution_count": null,
   "id": "d0d297c5",
   "metadata": {},
   "outputs": [],
   "source": [
    "#QUESTION NUMBER:-10 (a)"
   ]
  },
  {
   "cell_type": "code",
   "execution_count": 50,
   "id": "c947a997",
   "metadata": {},
   "outputs": [
    {
     "name": "stdout",
     "output_type": "stream",
     "text": [
      "1 \n",
      "\n",
      "2 2 \n",
      "\n",
      "3 3 3 \n",
      "\n",
      "4 4 4 4 \n",
      "\n",
      "5 5 5 5 5 \n",
      "\n"
     ]
    }
   ],
   "source": [
    "n = 5\n",
    "for i in range (n):\n",
    "    for j in range (i+1):\n",
    "        print(i+1, end = \" \")\n",
    "    print()\n",
    "    print()"
   ]
  },
  {
   "cell_type": "code",
   "execution_count": null,
   "id": "87d096cf",
   "metadata": {},
   "outputs": [],
   "source": [
    "#QUESTION NUMBER:-10(b)"
   ]
  },
  {
   "cell_type": "code",
   "execution_count": 51,
   "id": "84193149",
   "metadata": {},
   "outputs": [
    {
     "name": "stdout",
     "output_type": "stream",
     "text": [
      "5 5 5 5 5 \n",
      "5 4 4 4 5 \n",
      "5 4 3 4 5 \n",
      "5 4 4 4 5 \n",
      "5 5 5 5 5 \n"
     ]
    }
   ],
   "source": [
    "n = 5\n",
    "for i in range (n):\n",
    "    for j in range (n):\n",
    "        print(max(i+1,j+1, n-i, n-j), end = \" \")\n",
    "    print()"
   ]
  },
  {
   "cell_type": "code",
   "execution_count": null,
   "id": "9e0801fe",
   "metadata": {},
   "outputs": [],
   "source": [
    "#QUESTION NUMBER:-10(c)"
   ]
  },
  {
   "cell_type": "code",
   "execution_count": 52,
   "id": "ba0f844c",
   "metadata": {},
   "outputs": [
    {
     "name": "stdout",
     "output_type": "stream",
     "text": [
      "* \n",
      "* * \n",
      "* * * \n",
      "* * * * \n",
      "* * * * * \n"
     ]
    }
   ],
   "source": [
    "n = 5\n",
    "for i in range (n):\n",
    "    for j in range (i+1):\n",
    "        print(\"*\", end = \" \")\n",
    "    print()"
   ]
  },
  {
   "cell_type": "code",
   "execution_count": null,
   "id": "31986896",
   "metadata": {},
   "outputs": [],
   "source": [
    "#QUESTION NUMBER:-10(d)"
   ]
  },
  {
   "cell_type": "code",
   "execution_count": 53,
   "id": "c5c7e71b",
   "metadata": {},
   "outputs": [
    {
     "name": "stdout",
     "output_type": "stream",
     "text": [
      "****\n",
      "***\n",
      "**\n",
      "*\n"
     ]
    }
   ],
   "source": [
    "n = 4\n",
    "for i in range(n):\n",
    "    for j in range (n, i, -1):\n",
    "        print(\"*\", end = \"\")\n",
    "    print()"
   ]
  },
  {
   "cell_type": "code",
   "execution_count": null,
   "id": "e534f2a3",
   "metadata": {},
   "outputs": [],
   "source": [
    "#QUESTION NUMBER:-10(e)"
   ]
  },
  {
   "cell_type": "code",
   "execution_count": 54,
   "id": "14d3d959",
   "metadata": {},
   "outputs": [
    {
     "name": "stdout",
     "output_type": "stream",
     "text": [
      "#####\n",
      "#####\n",
      "#####\n",
      "#####\n",
      "#####\n"
     ]
    }
   ],
   "source": [
    "n = 5\n",
    "for i in range (n):\n",
    "    for j in range (n):\n",
    "        print(\"#\", end = \"\")\n",
    "    print()"
   ]
  },
  {
   "cell_type": "code",
   "execution_count": null,
   "id": "0ef05263",
   "metadata": {},
   "outputs": [],
   "source": [
    "#QUESTION NUMBER:-11"
   ]
  },
  {
   "cell_type": "code",
   "execution_count": 17,
   "id": "ec76ef0e",
   "metadata": {},
   "outputs": [
    {
     "name": "stdout",
     "output_type": "stream",
     "text": [
      "Enter value: 9\n",
      "11106\n"
     ]
    }
   ],
   "source": [
    "value = input(\"Enter value: \")\n",
    "\n",
    "n1 = value * 1\n",
    "n2 = value * 2\n",
    "n3 = value * 3\n",
    "n4 = value * 4\n",
    "\n",
    "total = int(n1) + int(n2) + int(n3) + int(n4)\n",
    "print(total)"
   ]
  },
  {
   "cell_type": "code",
   "execution_count": null,
   "id": "026e237b",
   "metadata": {},
   "outputs": [],
   "source": [
    "#QUESTION NUMBER:-12"
   ]
  },
  {
   "cell_type": "code",
   "execution_count": 36,
   "id": "87b5eb9e",
   "metadata": {},
   "outputs": [
    {
     "name": "stdout",
     "output_type": "stream",
     "text": [
      "Enter the String :welcome to python coding\n",
      "24\n"
     ]
    }
   ],
   "source": [
    "string = input('Enter the String :')\n",
    "count = 0\n",
    "for i in string:\n",
    "    count+=1\n",
    "print(count)"
   ]
  },
  {
   "cell_type": "code",
   "execution_count": null,
   "id": "89521be3",
   "metadata": {},
   "outputs": [],
   "source": [
    "#QUESTION NUMBER:-13"
   ]
  },
  {
   "cell_type": "code",
   "execution_count": 19,
   "id": "ae279309",
   "metadata": {},
   "outputs": [
    {
     "name": "stdout",
     "output_type": "stream",
     "text": [
      "Input a stringthis is a test sentence  number 389\n",
      "Letters 25\n",
      "Digits 3\n"
     ]
    }
   ],
   "source": [
    "s = input(\"Input a string\")\n",
    "d=l=0\n",
    "for c in s:\n",
    "    if c.isdigit():\n",
    "        d=d+1\n",
    "    elif c.isalpha():\n",
    "        l=l+1\n",
    "    else:\n",
    "        pass\n",
    "print(\"Letters\", l)\n",
    "print(\"Digits\", d)"
   ]
  },
  {
   "cell_type": "code",
   "execution_count": null,
   "id": "b2240ea6",
   "metadata": {},
   "outputs": [],
   "source": [
    "#QUESTION NUMBER:-14"
   ]
  },
  {
   "cell_type": "code",
   "execution_count": 67,
   "id": "9037b27a",
   "metadata": {},
   "outputs": [
    {
     "name": "stdout",
     "output_type": "stream",
     "text": [
      "Enter the string: do good have good\n",
      "DO GOOD HAVE GOOD\n"
     ]
    }
   ],
   "source": [
    "s= input(\"Enter the string: \")\n",
    "string = \"\"\n",
    "\n",
    "for i in s:\n",
    "    if (i >= \"a\" and i <= \"z\"):\n",
    "        x = ord(i)\n",
    "        x -= 32\n",
    "        string += chr(x)\n",
    "    else:\n",
    "        string += i\n",
    "\n",
    "print(string)"
   ]
  },
  {
   "cell_type": "code",
   "execution_count": null,
   "id": "b6db1b3c",
   "metadata": {},
   "outputs": [],
   "source": [
    "#QUESTION NUMBER:-15"
   ]
  },
  {
   "cell_type": "code",
   "execution_count": 57,
   "id": "91c45d08",
   "metadata": {},
   "outputs": [
    {
     "name": "stdout",
     "output_type": "stream",
     "text": [
      "Enter the sentence: Shivu is a ShinchanLover \n",
      "The number of upper case letters is '3' and lower case letters is '18'\n"
     ]
    }
   ],
   "source": [
    "s = input(\"Enter the sentence: \")\n",
    "\n",
    "upper = 0\n",
    "lower = 0\n",
    "\n",
    "for i in s:\n",
    "    if (i.isupper()):\n",
    "        upper += 1\n",
    "    elif (i.islower()):\n",
    "        lower += 1\n",
    "        \n",
    "print(f\"The number of upper case letters is '{upper}' and lower case letters is '{lower}'\")"
   ]
  },
  {
   "cell_type": "code",
   "execution_count": null,
   "id": "f61230ea",
   "metadata": {},
   "outputs": [],
   "source": [
    "#QUESTION NUMBER :-16"
   ]
  },
  {
   "cell_type": "code",
   "execution_count": 58,
   "id": "39ed7ed9",
   "metadata": {},
   "outputs": [
    {
     "name": "stdout",
     "output_type": "stream",
     "text": [
      "Enter the string: something went wrong\n",
      "Enter the character to check its occurences: o\n",
      "Count of 'o' = 2\n"
     ]
    }
   ],
   "source": [
    "s = input(\"Enter the string: \")\n",
    "ch = input(\"Enter the character to check its occurences: \")\n",
    "\n",
    "def count(s, ch):\n",
    "    chCount = 0\n",
    "    for i in s:\n",
    "        if (i == ch):\n",
    "            chCount += 1\n",
    "    return chCount\n",
    "\n",
    "print(f\"Count of '{ch}' =\", count(s, ch))"
   ]
  },
  {
   "cell_type": "code",
   "execution_count": null,
   "id": "650aadb4",
   "metadata": {},
   "outputs": [],
   "source": [
    "#QUESTION NUMBER :-17"
   ]
  },
  {
   "cell_type": "code",
   "execution_count": 2,
   "id": "02d13545",
   "metadata": {},
   "outputs": [
    {
     "name": "stdout",
     "output_type": "stream",
     "text": [
      "Enter string:sms\n",
      "The string is a palindrome\n"
     ]
    }
   ],
   "source": [
    "my_string=input(\"Enter string:\")\n",
    "if(my_string==my_string[::-1]):\n",
    "    print(\"The string is a palindrome\")\n",
    "else:\n",
    "    print(\"The string isn't a palindrome\")"
   ]
  },
  {
   "cell_type": "code",
   "execution_count": null,
   "id": "735c684c",
   "metadata": {},
   "outputs": [],
   "source": [
    "#QUESTION NUMBER:-18"
   ]
  },
  {
   "cell_type": "code",
   "execution_count": 60,
   "id": "13e40a78",
   "metadata": {},
   "outputs": [
    {
     "name": "stdout",
     "output_type": "stream",
     "text": [
      "Enter the string: as hot as a sun\n",
      "Enter the substring: warm\n",
      "Is 'warm' a substring of 'as hot as a sun'? : False\n"
     ]
    }
   ],
   "source": [
    "s1 = input(\"Enter the string: \")\n",
    "s2 = input(\"Enter the substring: \")\n",
    "\n",
    "def check(s1, s2)    :\n",
    "    if s2 in s1:\n",
    "        return True\n",
    "    else:\n",
    "        return False\n",
    "    \n",
    "print(f\"Is '{s2}' a substring of '{s1}'? :\", check(s1, s2))"
   ]
  },
  {
   "cell_type": "code",
   "execution_count": null,
   "id": "4a639623",
   "metadata": {},
   "outputs": [],
   "source": [
    "#QUESTION NUMBER:-19"
   ]
  },
  {
   "cell_type": "code",
   "execution_count": 61,
   "id": "3aa40753",
   "metadata": {},
   "outputs": [
    {
     "name": "stdout",
     "output_type": "stream",
     "text": [
      "Enter password: jaimatadi\n",
      "Invalid password. Please enter again\n"
     ]
    }
   ],
   "source": [
    "pwd = input(\"Enter password: \")\n",
    "\n",
    "def valid(pwd):\n",
    "    count_a = 0\n",
    "    count_1 = 0\n",
    "    count = 0\n",
    "    for i in pwd:\n",
    "        if (i >= 'a' and i <= 'z'):\n",
    "            count_a += 1\n",
    "        elif (i >= '0' and i <= '9'):\n",
    "            count_1 += 1\n",
    "        elif ((i >= '#' and i <= '&') or i == \"@\"):\n",
    "            count += 1\n",
    "    \n",
    "    if (count_a >= 1 and count_1 >= 1 and count >=1):\n",
    "        print(\"Valid password\")\n",
    "    else:\n",
    "        print(\"Invalid password. Please enter again\")\n",
    "\n",
    "valid(pwd)"
   ]
  },
  {
   "cell_type": "code",
   "execution_count": null,
   "id": "b39332b4",
   "metadata": {},
   "outputs": [],
   "source": [
    "#QUESTION NUMBER:-20"
   ]
  },
  {
   "cell_type": "code",
   "execution_count": 59,
   "id": "a390f858",
   "metadata": {},
   "outputs": [
    {
     "name": "stdout",
     "output_type": "stream",
     "text": [
      "Vowels are: e o a u "
     ]
    }
   ],
   "source": [
    "s = \"Hello how are you all\"\n",
    "vow = []\n",
    "vowels = \"aAeEiIoOuU\"\n",
    "\n",
    "for i in s:\n",
    "    if (i in vowels and i not in vow):\n",
    "        vow.append(i)\n",
    "\n",
    "if (len(vow) > 0):\n",
    "    print(\"Vowels are\", end = \": \")\n",
    "    for vowels in vow:\n",
    "        print(vowels, end = \" \")\n",
    "else:\n",
    "    print(\"There are no vowels.\")"
   ]
  },
  {
   "cell_type": "code",
   "execution_count": null,
   "id": "b3b38c48",
   "metadata": {},
   "outputs": [],
   "source": []
  },
  {
   "cell_type": "code",
   "execution_count": null,
   "id": "952fcedd",
   "metadata": {},
   "outputs": [],
   "source": []
  },
  {
   "cell_type": "code",
   "execution_count": null,
   "id": "6e4d94bf",
   "metadata": {},
   "outputs": [],
   "source": []
  },
  {
   "cell_type": "code",
   "execution_count": null,
   "id": "f895979b",
   "metadata": {},
   "outputs": [],
   "source": []
  },
  {
   "cell_type": "code",
   "execution_count": null,
   "id": "d6d9ddf5",
   "metadata": {},
   "outputs": [],
   "source": []
  }
 ],
 "metadata": {
  "kernelspec": {
   "display_name": "Python 3",
   "language": "python",
   "name": "python3"
  },
  "language_info": {
   "codemirror_mode": {
    "name": "ipython",
    "version": 3
   },
   "file_extension": ".py",
   "mimetype": "text/x-python",
   "name": "python",
   "nbconvert_exporter": "python",
   "pygments_lexer": "ipython3",
   "version": "3.9.5"
  }
 },
 "nbformat": 4,
 "nbformat_minor": 5
}
