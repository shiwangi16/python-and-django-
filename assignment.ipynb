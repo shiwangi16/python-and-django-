{
 "cells": [
  {
   "cell_type": "code",
   "execution_count": null,
   "id": "329600f3",
   "metadata": {},
   "outputs": [],
   "source": [
    "#QUESTION-1 "
   ]
  },
  {
   "cell_type": "code",
   "execution_count": 4,
   "id": "03ffe868",
   "metadata": {},
   "outputs": [
    {
     "name": "stdout",
     "output_type": "stream",
     "text": [
      "Leng of str: 23\n",
      "['Hey', 'i', 'am', 'from', 'New', 'Delhi']\n"
     ]
    }
   ],
   "source": [
    "name = \"Hey i am from New Delhi\"\n",
    "\n",
    "print(\"Leng of str:\", len(name))\n",
    "print(name.split())"
   ]
  },
  {
   "cell_type": "code",
   "execution_count": null,
   "id": "eea46bde",
   "metadata": {},
   "outputs": [],
   "source": [
    "#QUESTION-2"
   ]
  },
  {
   "cell_type": "code",
   "execution_count": 3,
   "id": "eb780958",
   "metadata": {},
   "outputs": [
    {
     "name": "stdout",
     "output_type": "stream",
     "text": [
      "Name is rahul\n",
      "Rame Is Rahul\n",
      "NAME IS RAHUL\n"
     ]
    }
   ],
   "source": [
    "string = \"name is rahul\"\n",
    "\n",
    "print(string.capitalize())\n",
    "\n",
    "str = string.title()\n",
    "string_list = list(str)\n",
    "string_list[0] = 'R'\n",
    "print(\"\".join(string_list))\n",
    "\n",
    "print(string.upper())"
   ]
  },
  {
   "cell_type": "code",
   "execution_count": null,
   "id": "205b4422",
   "metadata": {},
   "outputs": [],
   "source": [
    "#QUESTION NUMBER-3"
   ]
  },
  {
   "cell_type": "code",
   "execution_count": 3,
   "id": "50547bf4",
   "metadata": {},
   "outputs": [
    {
     "name": "stdout",
     "output_type": "stream",
     "text": [
      " length of rectangle: 56\n",
      " breadth of rectangle: 78\n",
      "Area of rectangle: 4368\n",
      "Perimeter of rectangle: 268\n"
     ]
    }
   ],
   "source": [
    "leng = int(input(\" length of rectangle: \"))\n",
    "width = int(input(\" breadth of rectangle: \"))\n",
    "a = leng * width\n",
    "p = 2 * (leng + width)\n",
    "print(\"Area of rectangle:\", a)\n",
    "print(\"Perimeter of rectangle:\", p)"
   ]
  },
  {
   "cell_type": "code",
   "execution_count": null,
   "id": "b87ed60d",
   "metadata": {},
   "outputs": [],
   "source": [
    "#QUESTION NUMBER- 4"
   ]
  },
  {
   "cell_type": "code",
   "execution_count": 4,
   "id": "7e4a477e",
   "metadata": {},
   "outputs": [
    {
     "name": "stdout",
     "output_type": "stream",
     "text": [
      "Enter diameter of circle: 56\n",
      "Circumference: 175.84\n",
      "Area: 2461.76\n"
     ]
    }
   ],
   "source": [
    "PI = 3.14\n",
    "d = int(input(\"Enter diameter of circle: \"))\n",
    "r = d / 2\n",
    "c = 2 * PI * r\n",
    "a = PI * r * r\n",
    "print(\"Circumference:\", c)\n",
    "print(\"Area:\", a)"
   ]
  },
  {
   "cell_type": "code",
   "execution_count": null,
   "id": "aaaeb438",
   "metadata": {},
   "outputs": [],
   "source": [
    "#QUESTION NUMBER-5"
   ]
  },
  {
   "cell_type": "code",
   "execution_count": 25,
   "id": "c1f8c25b",
   "metadata": {},
   "outputs": [
    {
     "name": "stdout",
     "output_type": "stream",
     "text": [
      "a = 4\n",
      "b = 60\n",
      "c = 5\n",
      "part-1: -0.08380151290433702\n",
      "part-2: -14.916198487095663\n"
     ]
    }
   ],
   "source": [
    "import math\n",
    "a = int(input(\"a = \"))\n",
    "b = int(input(\"b = \"))\n",
    "c = int(input(\"c = \"))\n",
    "result = (b*b) - (4*a*c)\n",
    "sqr= math.sqrt(result)\n",
    "A1 = (-b+sqr) / (2*a)\n",
    "A2 = (-b-sqr) /  (2*a)\n",
    "print(\"part-1:\", A1)\n",
    "print(\"part-2:\", A2)"
   ]
  },
  {
   "cell_type": "code",
   "execution_count": 10,
   "id": "e7b03ab2",
   "metadata": {},
   "outputs": [],
   "source": [
    "#QUESTION NUMBER-6"
   ]
  },
  {
   "cell_type": "code",
   "execution_count": 7,
   "id": "e4e0c27c",
   "metadata": {},
   "outputs": [
    {
     "name": "stdout",
     "output_type": "stream",
     "text": [
      "Enter radius: 56\n",
      "Volume: 735245.6533333333\n"
     ]
    }
   ],
   "source": [
    "PI = 3.14\n",
    "R = int(input(\"Enter radius: \"))\n",
    "volume = (4/3) * PI * R ** 3\n",
    "print(\"Volume:\", volume)"
   ]
  },
  {
   "cell_type": "code",
   "execution_count": null,
   "id": "7a18ff43",
   "metadata": {},
   "outputs": [],
   "source": [
    "#QUESTION NUMBER -7"
   ]
  },
  {
   "cell_type": "code",
   "execution_count": 8,
   "id": "a947ebcd",
   "metadata": {},
   "outputs": [
    {
     "name": "stdout",
     "output_type": "stream",
     "text": [
      "Enter the number: 456\n",
      "No. of digits: 3\n"
     ]
    }
   ],
   "source": [
    "no = int(input(\"Enter the number: \"))\n",
    "count = 0\n",
    "while (no > 1):\n",
    "    no = no // 10\n",
    "    count += 1\n",
    "print(\"No. of digits:\", count)"
   ]
  },
  {
   "cell_type": "code",
   "execution_count": null,
   "id": "4f18b655",
   "metadata": {},
   "outputs": [],
   "source": [
    "#QUESTION NUMBER-8"
   ]
  },
  {
   "cell_type": "code",
   "execution_count": 10,
   "id": "54340f50",
   "metadata": {},
   "outputs": [
    {
     "name": "stdout",
     "output_type": "stream",
     "text": [
      "Enter the string: welcome to python\n",
      "WELCOME TO PYTHON\n"
     ]
    }
   ],
   "source": [
    "string = input(\"Enter the string: \")\n",
    "print(string.upper())"
   ]
  },
  {
   "cell_type": "code",
   "execution_count": null,
   "id": "7d80265b",
   "metadata": {},
   "outputs": [],
   "source": [
    "#QUESTION NUMBER-9"
   ]
  },
  {
   "cell_type": "code",
   "execution_count": 15,
   "id": "f0987703",
   "metadata": {},
   "outputs": [
    {
     "name": "stdout",
     "output_type": "stream",
     "text": [
      "Enter string: welcomef\n",
      "Enter index no.: 7\n",
      "Enter character: u\n"
     ]
    },
    {
     "data": {
      "text/plain": [
       "'welcomeu'"
      ]
     },
     "execution_count": 15,
     "metadata": {},
     "output_type": "execute_result"
    }
   ],
   "source": [
    "string = input(\"Enter string: \")\n",
    "index = int(input(\"Enter index no.: \"))\n",
    "char = input(\"Enter character: \")\n",
    "s_list = list(string)\n",
    "s_list[index] = char\n",
    "\"\".join(s_list)"
   ]
  },
  {
   "cell_type": "code",
   "execution_count": 12,
   "id": "709103a3",
   "metadata": {},
   "outputs": [],
   "source": [
    "#QUESTION NUMBER-10"
   ]
  },
  {
   "cell_type": "code",
   "execution_count": 17,
   "id": "63a1fa67",
   "metadata": {},
   "outputs": [
    {
     "name": "stdout",
     "output_type": "stream",
     "text": [
      "Enter the string: hello people\n",
      "Reversed string is: elpoep olleh\n"
     ]
    }
   ],
   "source": [
    "string = input(\"Enter the string: \")\n",
    "s = \"\"\n",
    "for i in string:\n",
    "    s = i + s\n",
    "print(\"Reversed string is:\", s)"
   ]
  },
  {
   "cell_type": "code",
   "execution_count": null,
   "id": "f841d44d",
   "metadata": {},
   "outputs": [],
   "source": []
  },
  {
   "cell_type": "code",
   "execution_count": null,
   "id": "07ce4e38",
   "metadata": {},
   "outputs": [],
   "source": []
  },
  {
   "cell_type": "code",
   "execution_count": null,
   "id": "3ca8bf77",
   "metadata": {},
   "outputs": [],
   "source": []
  },
  {
   "cell_type": "code",
   "execution_count": null,
   "id": "02b1a9d4",
   "metadata": {},
   "outputs": [],
   "source": []
  },
  {
   "cell_type": "code",
   "execution_count": null,
   "id": "7a2c6b2b",
   "metadata": {},
   "outputs": [],
   "source": []
  },
  {
   "cell_type": "code",
   "execution_count": null,
   "id": "bfce0893",
   "metadata": {},
   "outputs": [],
   "source": []
  },
  {
   "cell_type": "code",
   "execution_count": null,
   "id": "673fd30b",
   "metadata": {},
   "outputs": [],
   "source": []
  }
 ],
 "metadata": {
  "kernelspec": {
   "display_name": "Python 3",
   "language": "python",
   "name": "python3"
  },
  "language_info": {
   "codemirror_mode": {
    "name": "ipython",
    "version": 3
   },
   "file_extension": ".py",
   "mimetype": "text/x-python",
   "name": "python",
   "nbconvert_exporter": "python",
   "pygments_lexer": "ipython3",
   "version": "3.9.5"
  }
 },
 "nbformat": 4,
 "nbformat_minor": 5
}
